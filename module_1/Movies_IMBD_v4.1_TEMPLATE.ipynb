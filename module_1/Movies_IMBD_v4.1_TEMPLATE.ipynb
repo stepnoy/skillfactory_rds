{
 "cells": [
  {
   "cell_type": "code",
   "execution_count": 501,
   "metadata": {
    "_cell_guid": "b1076dfc-b9ad-4769-8c92-a6c4dae69d19",
    "_uuid": "8f2839f25d086af736a60e9eeb907d3b93b6e0e5",
    "colab": {},
    "colab_type": "code",
    "id": "U2D2gTdJVp90"
   },
   "outputs": [],
   "source": [
    "import numpy as np\n",
    "import pandas as pd\n",
    "import seaborn as sns\n",
    "import matplotlib.pyplot as plt\n",
    "from collections import Counter"
   ]
  },
  {
   "cell_type": "code",
   "execution_count": 502,
   "metadata": {
    "_cell_guid": "79c7e3d0-c299-4dcb-8224-4455121ee9b0",
    "_uuid": "d629ff2d2480ee46fbb7e2d37f6b5fab8052498a",
    "colab": {},
    "colab_type": "code",
    "id": "oyGfxL3eVp9-"
   },
   "outputs": [
    {
     "output_type": "execute_result",
     "data": {
      "text/plain": [
       "        imdb_id     budget    revenue                  original_title  \\\n",
       "1804  tt0120755  125000000  546388105          Mission: Impossible II   \n",
       "1475  tt0397078   28000000   38159905                    Just My Luck   \n",
       "1208  tt1428538   50000000  224803475  Hansel & Gretel: Witch Hunters   \n",
       "331   tt0913354   20000000   22942221                         Armored   \n",
       "942   tt0309377   50000000   26199517                      Blood Work   \n",
       "\n",
       "                                                   cast        director  \\\n",
       "1804  Tom Cruise|Dougray Scott|Thandie Newton|Ving R...        John Woo   \n",
       "1475  Lindsay Lohan|Samaire Armstrong|Chris Pine|Mis...   Donald Petrie   \n",
       "1208  Jeremy Renner|Gemma Arterton|Famke Janssen|Pih...   Tommy Wirkola   \n",
       "331   Columbus Short|Laurence Fishburne|Skeet Ulrich...   NimrÃ³d Antal   \n",
       "942   Clint Eastwood|Jeff Daniels|Anjelica Huston|Wa...  Clint Eastwood   \n",
       "\n",
       "                                             tagline  \\\n",
       "1804                     Expect the impossible again   \n",
       "1475       Everything changed in the wink of an eye.   \n",
       "1208                        Classic tale. New twist.   \n",
       "331               Who will be the last man standing?   \n",
       "942   He's a heartbeat away from catching the killer   \n",
       "\n",
       "                                               overview  runtime  \\\n",
       "1804  With computer genius Luther Stickell at his si...      123   \n",
       "1475  Manhattanite Ashley is known to many as the lu...      103   \n",
       "1208  After getting a taste for blood as children, H...       88   \n",
       "331   A crew of officers at an armored transport sec...       88   \n",
       "942   Still recovering from a heart transplant, a re...      110   \n",
       "\n",
       "                                   genres  \\\n",
       "1804            Adventure|Action|Thriller   \n",
       "1475  Comedy|Drama|Family|Fantasy|Romance   \n",
       "1208                Fantasy|Horror|Action   \n",
       "331           Action|Crime|Drama|Thriller   \n",
       "942          Crime|Drama|Mystery|Thriller   \n",
       "\n",
       "                                   production_companies release_date  \\\n",
       "1804  Paramount Pictures|Cruise/Wagner Productions|M...    5/23/2000   \n",
       "1475  Regency Enterprises|Cheyenne Enterprises|New R...    5/12/2006   \n",
       "1208  Paramount Pictures|Studio Babelsberg|MTV Films...    1/17/2013   \n",
       "331   Screen Gems|Stars Road Entertainment|Farah Fil...    12/4/2009   \n",
       "942           Malpaso Productions|Warner Bros. Pictures     8/4/2002   \n",
       "\n",
       "      vote_average  release_year  \n",
       "1804           5.8          2000  \n",
       "1475           5.7          2006  \n",
       "1208           5.7          2013  \n",
       "331            5.6          2009  \n",
       "942            5.7          2002  "
      ],
      "text/html": "<div>\n<style scoped>\n    .dataframe tbody tr th:only-of-type {\n        vertical-align: middle;\n    }\n\n    .dataframe tbody tr th {\n        vertical-align: top;\n    }\n\n    .dataframe thead th {\n        text-align: right;\n    }\n</style>\n<table border=\"1\" class=\"dataframe\">\n  <thead>\n    <tr style=\"text-align: right;\">\n      <th></th>\n      <th>imdb_id</th>\n      <th>budget</th>\n      <th>revenue</th>\n      <th>original_title</th>\n      <th>cast</th>\n      <th>director</th>\n      <th>tagline</th>\n      <th>overview</th>\n      <th>runtime</th>\n      <th>genres</th>\n      <th>production_companies</th>\n      <th>release_date</th>\n      <th>vote_average</th>\n      <th>release_year</th>\n    </tr>\n  </thead>\n  <tbody>\n    <tr>\n      <th>1804</th>\n      <td>tt0120755</td>\n      <td>125000000</td>\n      <td>546388105</td>\n      <td>Mission: Impossible II</td>\n      <td>Tom Cruise|Dougray Scott|Thandie Newton|Ving R...</td>\n      <td>John Woo</td>\n      <td>Expect the impossible again</td>\n      <td>With computer genius Luther Stickell at his si...</td>\n      <td>123</td>\n      <td>Adventure|Action|Thriller</td>\n      <td>Paramount Pictures|Cruise/Wagner Productions|M...</td>\n      <td>5/23/2000</td>\n      <td>5.8</td>\n      <td>2000</td>\n    </tr>\n    <tr>\n      <th>1475</th>\n      <td>tt0397078</td>\n      <td>28000000</td>\n      <td>38159905</td>\n      <td>Just My Luck</td>\n      <td>Lindsay Lohan|Samaire Armstrong|Chris Pine|Mis...</td>\n      <td>Donald Petrie</td>\n      <td>Everything changed in the wink of an eye.</td>\n      <td>Manhattanite Ashley is known to many as the lu...</td>\n      <td>103</td>\n      <td>Comedy|Drama|Family|Fantasy|Romance</td>\n      <td>Regency Enterprises|Cheyenne Enterprises|New R...</td>\n      <td>5/12/2006</td>\n      <td>5.7</td>\n      <td>2006</td>\n    </tr>\n    <tr>\n      <th>1208</th>\n      <td>tt1428538</td>\n      <td>50000000</td>\n      <td>224803475</td>\n      <td>Hansel &amp; Gretel: Witch Hunters</td>\n      <td>Jeremy Renner|Gemma Arterton|Famke Janssen|Pih...</td>\n      <td>Tommy Wirkola</td>\n      <td>Classic tale. New twist.</td>\n      <td>After getting a taste for blood as children, H...</td>\n      <td>88</td>\n      <td>Fantasy|Horror|Action</td>\n      <td>Paramount Pictures|Studio Babelsberg|MTV Films...</td>\n      <td>1/17/2013</td>\n      <td>5.7</td>\n      <td>2013</td>\n    </tr>\n    <tr>\n      <th>331</th>\n      <td>tt0913354</td>\n      <td>20000000</td>\n      <td>22942221</td>\n      <td>Armored</td>\n      <td>Columbus Short|Laurence Fishburne|Skeet Ulrich...</td>\n      <td>NimrÃ³d Antal</td>\n      <td>Who will be the last man standing?</td>\n      <td>A crew of officers at an armored transport sec...</td>\n      <td>88</td>\n      <td>Action|Crime|Drama|Thriller</td>\n      <td>Screen Gems|Stars Road Entertainment|Farah Fil...</td>\n      <td>12/4/2009</td>\n      <td>5.6</td>\n      <td>2009</td>\n    </tr>\n    <tr>\n      <th>942</th>\n      <td>tt0309377</td>\n      <td>50000000</td>\n      <td>26199517</td>\n      <td>Blood Work</td>\n      <td>Clint Eastwood|Jeff Daniels|Anjelica Huston|Wa...</td>\n      <td>Clint Eastwood</td>\n      <td>He's a heartbeat away from catching the killer</td>\n      <td>Still recovering from a heart transplant, a re...</td>\n      <td>110</td>\n      <td>Crime|Drama|Mystery|Thriller</td>\n      <td>Malpaso Productions|Warner Bros. Pictures</td>\n      <td>8/4/2002</td>\n      <td>5.7</td>\n      <td>2002</td>\n    </tr>\n  </tbody>\n</table>\n</div>"
     },
     "metadata": {},
     "execution_count": 502
    }
   ],
   "source": [
    "data = pd.read_csv('movie_bd_v5.csv')\n",
    "data.sample(5)"
   ]
  },
  {
   "cell_type": "code",
   "execution_count": 503,
   "metadata": {
    "colab": {},
    "colab_type": "code",
    "id": "CoYUnagMVp-C"
   },
   "outputs": [
    {
     "output_type": "execute_result",
     "data": {
      "text/plain": [
       "             budget       revenue      runtime  vote_average  release_year\n",
       "count  1.889000e+03  1.889000e+03  1889.000000   1889.000000   1889.000000\n",
       "mean   5.431083e+07  1.553653e+08   109.658549      6.140762   2007.860773\n",
       "std    4.858721e+07  2.146698e+08    18.017041      0.764763      4.468841\n",
       "min    5.000000e+06  2.033165e+06    63.000000      3.300000   2000.000000\n",
       "25%    2.000000e+07  3.456058e+07    97.000000      5.600000   2004.000000\n",
       "50%    3.800000e+07  8.361541e+07   107.000000      6.100000   2008.000000\n",
       "75%    7.200000e+07  1.782626e+08   120.000000      6.600000   2012.000000\n",
       "max    3.800000e+08  2.781506e+09   214.000000      8.100000   2015.000000"
      ],
      "text/html": "<div>\n<style scoped>\n    .dataframe tbody tr th:only-of-type {\n        vertical-align: middle;\n    }\n\n    .dataframe tbody tr th {\n        vertical-align: top;\n    }\n\n    .dataframe thead th {\n        text-align: right;\n    }\n</style>\n<table border=\"1\" class=\"dataframe\">\n  <thead>\n    <tr style=\"text-align: right;\">\n      <th></th>\n      <th>budget</th>\n      <th>revenue</th>\n      <th>runtime</th>\n      <th>vote_average</th>\n      <th>release_year</th>\n    </tr>\n  </thead>\n  <tbody>\n    <tr>\n      <th>count</th>\n      <td>1.889000e+03</td>\n      <td>1.889000e+03</td>\n      <td>1889.000000</td>\n      <td>1889.000000</td>\n      <td>1889.000000</td>\n    </tr>\n    <tr>\n      <th>mean</th>\n      <td>5.431083e+07</td>\n      <td>1.553653e+08</td>\n      <td>109.658549</td>\n      <td>6.140762</td>\n      <td>2007.860773</td>\n    </tr>\n    <tr>\n      <th>std</th>\n      <td>4.858721e+07</td>\n      <td>2.146698e+08</td>\n      <td>18.017041</td>\n      <td>0.764763</td>\n      <td>4.468841</td>\n    </tr>\n    <tr>\n      <th>min</th>\n      <td>5.000000e+06</td>\n      <td>2.033165e+06</td>\n      <td>63.000000</td>\n      <td>3.300000</td>\n      <td>2000.000000</td>\n    </tr>\n    <tr>\n      <th>25%</th>\n      <td>2.000000e+07</td>\n      <td>3.456058e+07</td>\n      <td>97.000000</td>\n      <td>5.600000</td>\n      <td>2004.000000</td>\n    </tr>\n    <tr>\n      <th>50%</th>\n      <td>3.800000e+07</td>\n      <td>8.361541e+07</td>\n      <td>107.000000</td>\n      <td>6.100000</td>\n      <td>2008.000000</td>\n    </tr>\n    <tr>\n      <th>75%</th>\n      <td>7.200000e+07</td>\n      <td>1.782626e+08</td>\n      <td>120.000000</td>\n      <td>6.600000</td>\n      <td>2012.000000</td>\n    </tr>\n    <tr>\n      <th>max</th>\n      <td>3.800000e+08</td>\n      <td>2.781506e+09</td>\n      <td>214.000000</td>\n      <td>8.100000</td>\n      <td>2015.000000</td>\n    </tr>\n  </tbody>\n</table>\n</div>"
     },
     "metadata": {},
     "execution_count": 503
    }
   ],
   "source": [
    "data.describe()"
   ]
  },
  {
   "cell_type": "markdown",
   "metadata": {
    "colab_type": "text",
    "id": "DTIt7ezGVp-G"
   },
   "source": [
    "# Предобработка"
   ]
  },
  {
   "cell_type": "code",
   "execution_count": 504,
   "metadata": {
    "colab": {},
    "colab_type": "code",
    "id": "jNb40DwKVp-H"
   },
   "outputs": [
    {
     "output_type": "execute_result",
     "data": {
      "text/plain": [
       "        imdb_id     budget     revenue                        original_title  \\\n",
       "0     tt0369610  150000000  1513528810                        Jurassic World   \n",
       "1     tt1392190  150000000   378436354                    Mad Max: Fury Road   \n",
       "2     tt2908446  110000000   295238201                             Insurgent   \n",
       "3     tt2488496  200000000  2068178225          Star Wars: The Force Awakens   \n",
       "4     tt2820852  190000000  1506249360                             Furious 7   \n",
       "...         ...        ...         ...                                   ...   \n",
       "1884  tt0120903   75000000   157299717                                 X-Men   \n",
       "1885  tt0192255   22000000    13555988                    The Little Vampire   \n",
       "1886  tt0131704   76000000    35134820  The Adventures of Rocky & Bullwinkle   \n",
       "1887  tt0162983   40000000    36037909                            Hanging Up   \n",
       "1888  tt0163676   15000000     5217498                          The In Crowd   \n",
       "\n",
       "                                                   cast          director  \\\n",
       "0     Chris Pratt|Bryce Dallas Howard|Irrfan Khan|Vi...   Colin Trevorrow   \n",
       "1     Tom Hardy|Charlize Theron|Hugh Keays-Byrne|Nic...     George Miller   \n",
       "2     Shailene Woodley|Theo James|Kate Winslet|Ansel...  Robert Schwentke   \n",
       "3     Harrison Ford|Mark Hamill|Carrie Fisher|Adam D...       J.J. Abrams   \n",
       "4     Vin Diesel|Paul Walker|Jason Statham|Michelle ...         James Wan   \n",
       "...                                                 ...               ...   \n",
       "1884  Patrick Stewart|Hugh Jackman|Ian McKellen|Hall...      Bryan Singer   \n",
       "1885  Richard E. Grant|Jonathan Lipnicki|Jim Carter|...          Uli Edel   \n",
       "1886  Rene Russo|Jason Alexander|Piper Perabo|Randy ...       Des McAnuff   \n",
       "1887  Meg Ryan|Diane Keaton|Lisa Kudrow|Walter Matth...      Diane Keaton   \n",
       "1888  Susan Ward|Lori Heuring|Matthew Settle|Nathan ...      Mary Lambert   \n",
       "\n",
       "                                                tagline  \\\n",
       "0                                     The park is open.   \n",
       "1                                    What a Lovely Day.   \n",
       "2                            One Choice Can Destroy You   \n",
       "3                         Every generation has a story.   \n",
       "4                                   Vengeance Hits Home   \n",
       "...                                                 ...   \n",
       "1884                                   Evolution Begins   \n",
       "1885  They're not just best friends, they're blood b...   \n",
       "1886            This summer it's not the same old bull.   \n",
       "1887                   Every family has a few hang-ups.   \n",
       "1888                       What would you do to get in?   \n",
       "\n",
       "                                               overview  runtime  \\\n",
       "0     Twenty-two years after the events of Jurassic ...      124   \n",
       "1     An apocalyptic story set in the furthest reach...      120   \n",
       "2     Beatrice Prior must confront her inner demons ...      119   \n",
       "3     Thirty years after defeating the Galactic Empi...      136   \n",
       "4     Deckard Shaw seeks revenge against Dominic Tor...      137   \n",
       "...                                                 ...      ...   \n",
       "1884  Two mutants, Rogue and Wolverine, come to a pr...      104   \n",
       "1885  Based on the popular books, the story tells of...       95   \n",
       "1886  Rocky and Bullwinkle have been living off the ...       88   \n",
       "1887  A trio of sisters bond over their ambivalence ...       94   \n",
       "1888  A mentally disturbed young woman takes a job a...      105   \n",
       "\n",
       "                                         genres  \\\n",
       "0     Action|Adventure|Science Fiction|Thriller   \n",
       "1     Action|Adventure|Science Fiction|Thriller   \n",
       "2            Adventure|Science Fiction|Thriller   \n",
       "3      Action|Adventure|Science Fiction|Fantasy   \n",
       "4                         Action|Crime|Thriller   \n",
       "...                                         ...   \n",
       "1884           Adventure|Action|Science Fiction   \n",
       "1885                      Horror|Family|Foreign   \n",
       "1886   Adventure|Animation|Action|Comedy|Family   \n",
       "1887                               Comedy|Drama   \n",
       "1888                                   Thriller   \n",
       "\n",
       "                                   production_companies release_date  \\\n",
       "0     Universal Studios|Amblin Entertainment|Legenda...     6/9/2015   \n",
       "1     Village Roadshow Pictures|Kennedy Miller Produ...    5/13/2015   \n",
       "2     Summit Entertainment|Mandeville Films|Red Wago...    3/18/2015   \n",
       "3             Lucasfilm|Truenorth Productions|Bad Robot   12/15/2015   \n",
       "4     Universal Pictures|Original Film|Media Rights ...     4/1/2015   \n",
       "...                                                 ...          ...   \n",
       "1884  Twentieth Century Fox Film Corporation|Donners...    7/13/2000   \n",
       "1885                                    New Line Cinema   10/27/2000   \n",
       "1886  Universal Pictures|Capella International|KC Me...    6/30/2000   \n",
       "1887  Laurence Mark Productions|Columbia Pictures Co...    2/16/2000   \n",
       "1888                              Warner Bros. Pictures    7/19/2000   \n",
       "\n",
       "      vote_average  release_year      profit  \n",
       "0              6.5          2015  1363528810  \n",
       "1              7.1          2015   228436354  \n",
       "2              6.3          2015   185238201  \n",
       "3              7.5          2015  1868178225  \n",
       "4              7.3          2015  1316249360  \n",
       "...            ...           ...         ...  \n",
       "1884           6.6          2000    82299717  \n",
       "1885           6.4          2000    -8444012  \n",
       "1886           4.0          2000   -40865180  \n",
       "1887           5.2          2000    -3962091  \n",
       "1888           5.2          2000    -9782502  \n",
       "\n",
       "[1889 rows x 15 columns]"
      ],
      "text/html": "<div>\n<style scoped>\n    .dataframe tbody tr th:only-of-type {\n        vertical-align: middle;\n    }\n\n    .dataframe tbody tr th {\n        vertical-align: top;\n    }\n\n    .dataframe thead th {\n        text-align: right;\n    }\n</style>\n<table border=\"1\" class=\"dataframe\">\n  <thead>\n    <tr style=\"text-align: right;\">\n      <th></th>\n      <th>imdb_id</th>\n      <th>budget</th>\n      <th>revenue</th>\n      <th>original_title</th>\n      <th>cast</th>\n      <th>director</th>\n      <th>tagline</th>\n      <th>overview</th>\n      <th>runtime</th>\n      <th>genres</th>\n      <th>production_companies</th>\n      <th>release_date</th>\n      <th>vote_average</th>\n      <th>release_year</th>\n      <th>profit</th>\n    </tr>\n  </thead>\n  <tbody>\n    <tr>\n      <th>0</th>\n      <td>tt0369610</td>\n      <td>150000000</td>\n      <td>1513528810</td>\n      <td>Jurassic World</td>\n      <td>Chris Pratt|Bryce Dallas Howard|Irrfan Khan|Vi...</td>\n      <td>Colin Trevorrow</td>\n      <td>The park is open.</td>\n      <td>Twenty-two years after the events of Jurassic ...</td>\n      <td>124</td>\n      <td>Action|Adventure|Science Fiction|Thriller</td>\n      <td>Universal Studios|Amblin Entertainment|Legenda...</td>\n      <td>6/9/2015</td>\n      <td>6.5</td>\n      <td>2015</td>\n      <td>1363528810</td>\n    </tr>\n    <tr>\n      <th>1</th>\n      <td>tt1392190</td>\n      <td>150000000</td>\n      <td>378436354</td>\n      <td>Mad Max: Fury Road</td>\n      <td>Tom Hardy|Charlize Theron|Hugh Keays-Byrne|Nic...</td>\n      <td>George Miller</td>\n      <td>What a Lovely Day.</td>\n      <td>An apocalyptic story set in the furthest reach...</td>\n      <td>120</td>\n      <td>Action|Adventure|Science Fiction|Thriller</td>\n      <td>Village Roadshow Pictures|Kennedy Miller Produ...</td>\n      <td>5/13/2015</td>\n      <td>7.1</td>\n      <td>2015</td>\n      <td>228436354</td>\n    </tr>\n    <tr>\n      <th>2</th>\n      <td>tt2908446</td>\n      <td>110000000</td>\n      <td>295238201</td>\n      <td>Insurgent</td>\n      <td>Shailene Woodley|Theo James|Kate Winslet|Ansel...</td>\n      <td>Robert Schwentke</td>\n      <td>One Choice Can Destroy You</td>\n      <td>Beatrice Prior must confront her inner demons ...</td>\n      <td>119</td>\n      <td>Adventure|Science Fiction|Thriller</td>\n      <td>Summit Entertainment|Mandeville Films|Red Wago...</td>\n      <td>3/18/2015</td>\n      <td>6.3</td>\n      <td>2015</td>\n      <td>185238201</td>\n    </tr>\n    <tr>\n      <th>3</th>\n      <td>tt2488496</td>\n      <td>200000000</td>\n      <td>2068178225</td>\n      <td>Star Wars: The Force Awakens</td>\n      <td>Harrison Ford|Mark Hamill|Carrie Fisher|Adam D...</td>\n      <td>J.J. Abrams</td>\n      <td>Every generation has a story.</td>\n      <td>Thirty years after defeating the Galactic Empi...</td>\n      <td>136</td>\n      <td>Action|Adventure|Science Fiction|Fantasy</td>\n      <td>Lucasfilm|Truenorth Productions|Bad Robot</td>\n      <td>12/15/2015</td>\n      <td>7.5</td>\n      <td>2015</td>\n      <td>1868178225</td>\n    </tr>\n    <tr>\n      <th>4</th>\n      <td>tt2820852</td>\n      <td>190000000</td>\n      <td>1506249360</td>\n      <td>Furious 7</td>\n      <td>Vin Diesel|Paul Walker|Jason Statham|Michelle ...</td>\n      <td>James Wan</td>\n      <td>Vengeance Hits Home</td>\n      <td>Deckard Shaw seeks revenge against Dominic Tor...</td>\n      <td>137</td>\n      <td>Action|Crime|Thriller</td>\n      <td>Universal Pictures|Original Film|Media Rights ...</td>\n      <td>4/1/2015</td>\n      <td>7.3</td>\n      <td>2015</td>\n      <td>1316249360</td>\n    </tr>\n    <tr>\n      <th>...</th>\n      <td>...</td>\n      <td>...</td>\n      <td>...</td>\n      <td>...</td>\n      <td>...</td>\n      <td>...</td>\n      <td>...</td>\n      <td>...</td>\n      <td>...</td>\n      <td>...</td>\n      <td>...</td>\n      <td>...</td>\n      <td>...</td>\n      <td>...</td>\n      <td>...</td>\n    </tr>\n    <tr>\n      <th>1884</th>\n      <td>tt0120903</td>\n      <td>75000000</td>\n      <td>157299717</td>\n      <td>X-Men</td>\n      <td>Patrick Stewart|Hugh Jackman|Ian McKellen|Hall...</td>\n      <td>Bryan Singer</td>\n      <td>Evolution Begins</td>\n      <td>Two mutants, Rogue and Wolverine, come to a pr...</td>\n      <td>104</td>\n      <td>Adventure|Action|Science Fiction</td>\n      <td>Twentieth Century Fox Film Corporation|Donners...</td>\n      <td>7/13/2000</td>\n      <td>6.6</td>\n      <td>2000</td>\n      <td>82299717</td>\n    </tr>\n    <tr>\n      <th>1885</th>\n      <td>tt0192255</td>\n      <td>22000000</td>\n      <td>13555988</td>\n      <td>The Little Vampire</td>\n      <td>Richard E. Grant|Jonathan Lipnicki|Jim Carter|...</td>\n      <td>Uli Edel</td>\n      <td>They're not just best friends, they're blood b...</td>\n      <td>Based on the popular books, the story tells of...</td>\n      <td>95</td>\n      <td>Horror|Family|Foreign</td>\n      <td>New Line Cinema</td>\n      <td>10/27/2000</td>\n      <td>6.4</td>\n      <td>2000</td>\n      <td>-8444012</td>\n    </tr>\n    <tr>\n      <th>1886</th>\n      <td>tt0131704</td>\n      <td>76000000</td>\n      <td>35134820</td>\n      <td>The Adventures of Rocky &amp; Bullwinkle</td>\n      <td>Rene Russo|Jason Alexander|Piper Perabo|Randy ...</td>\n      <td>Des McAnuff</td>\n      <td>This summer it's not the same old bull.</td>\n      <td>Rocky and Bullwinkle have been living off the ...</td>\n      <td>88</td>\n      <td>Adventure|Animation|Action|Comedy|Family</td>\n      <td>Universal Pictures|Capella International|KC Me...</td>\n      <td>6/30/2000</td>\n      <td>4.0</td>\n      <td>2000</td>\n      <td>-40865180</td>\n    </tr>\n    <tr>\n      <th>1887</th>\n      <td>tt0162983</td>\n      <td>40000000</td>\n      <td>36037909</td>\n      <td>Hanging Up</td>\n      <td>Meg Ryan|Diane Keaton|Lisa Kudrow|Walter Matth...</td>\n      <td>Diane Keaton</td>\n      <td>Every family has a few hang-ups.</td>\n      <td>A trio of sisters bond over their ambivalence ...</td>\n      <td>94</td>\n      <td>Comedy|Drama</td>\n      <td>Laurence Mark Productions|Columbia Pictures Co...</td>\n      <td>2/16/2000</td>\n      <td>5.2</td>\n      <td>2000</td>\n      <td>-3962091</td>\n    </tr>\n    <tr>\n      <th>1888</th>\n      <td>tt0163676</td>\n      <td>15000000</td>\n      <td>5217498</td>\n      <td>The In Crowd</td>\n      <td>Susan Ward|Lori Heuring|Matthew Settle|Nathan ...</td>\n      <td>Mary Lambert</td>\n      <td>What would you do to get in?</td>\n      <td>A mentally disturbed young woman takes a job a...</td>\n      <td>105</td>\n      <td>Thriller</td>\n      <td>Warner Bros. Pictures</td>\n      <td>7/19/2000</td>\n      <td>5.2</td>\n      <td>2000</td>\n      <td>-9782502</td>\n    </tr>\n  </tbody>\n</table>\n<p>1889 rows × 15 columns</p>\n</div>"
     },
     "metadata": {},
     "execution_count": 504
    }
   ],
   "source": [
    "answers = {} # создадим словарь для ответов\n",
    "\n",
    "# тут другие ваши предобработки колонок например:\n",
    "\n",
    "#the time given in the dataset is in string format.\n",
    "#So we need to change this in datetime format\n",
    "# ...\n",
    "\n",
    "profit = data['revenue'] - data['budget']\n",
    "\n",
    "data['profit'] = profit\n",
    "\n",
    "data"
   ]
  },
  {
   "cell_type": "markdown",
   "metadata": {
    "colab_type": "text",
    "id": "YxZaH-nPVp-L"
   },
   "source": [
    "# 1. У какого фильма из списка самый большой бюджет?"
   ]
  },
  {
   "cell_type": "markdown",
   "metadata": {
    "colab_type": "text",
    "id": "Nd-G5gX6Vp-M"
   },
   "source": [
    "Использовать варианты ответов в коде решения запрещено.    \n",
    "Вы думаете и в жизни у вас будут варианты ответов?)"
   ]
  },
  {
   "cell_type": "code",
   "execution_count": 505,
   "metadata": {
    "colab": {},
    "colab_type": "code",
    "id": "uVnXAY5RVp-O"
   },
   "outputs": [],
   "source": [
    "# в словарь вставляем номер вопроса и ваш ответ на него\n",
    "# Пример: \n",
    "answers['1'] = '2. Spider-Man 3 (tt0413300)'\n",
    "# запишите свой вариант ответа\n",
    "answers['1'] = '...'\n",
    "# если ответили верно, можете добавить комментарий со значком \"+\""
   ]
  },
  {
   "cell_type": "code",
   "execution_count": 506,
   "metadata": {
    "colab": {},
    "colab_type": "code",
    "id": "dZwb3m28Vp-S"
   },
   "outputs": [
    {
     "output_type": "execute_result",
     "data": {
      "text/plain": [
       "723    Pirates of the Caribbean: On Stranger Tides\n",
       "Name: original_title, dtype: object"
      ]
     },
     "metadata": {},
     "execution_count": 506
    }
   ],
   "source": [
    "# тут пишем ваш код для решения данного вопроса:\n",
    "answers['1'] = data[data.budget == data.budget.max()][\"original_title\"]\n",
    "answers['1']"
   ]
  },
  {
   "cell_type": "markdown",
   "metadata": {
    "colab_type": "text",
    "id": "K7L3nbRXVp-X"
   },
   "source": [
    "ВАРИАНТ 2"
   ]
  },
  {
   "cell_type": "code",
   "execution_count": 507,
   "metadata": {
    "colab": {},
    "colab_type": "code",
    "id": "OGaoQI7rVp-X"
   },
   "outputs": [],
   "source": [
    "# можно добавлять разные варианты решения"
   ]
  },
  {
   "cell_type": "markdown",
   "metadata": {
    "colab_type": "text",
    "id": "FNRbbI3vVp-c"
   },
   "source": [
    "# 2. Какой из фильмов самый длительный (в минутах)?"
   ]
  },
  {
   "cell_type": "code",
   "execution_count": 508,
   "metadata": {
    "colab": {},
    "colab_type": "code",
    "id": "vHAoEXNTVp-d"
   },
   "outputs": [],
   "source": [
    "# думаю логику работы с этим словарем вы уже поняли, \n",
    "# по этому не буду больше его дублировать\n",
    "answers['2'] = '...'"
   ]
  },
  {
   "cell_type": "code",
   "execution_count": 509,
   "metadata": {
    "colab": {},
    "colab_type": "code",
    "id": "ot-VX2XrVp-g"
   },
   "outputs": [
    {
     "output_type": "execute_result",
     "data": {
      "text/plain": [
       "1157    Gods and Generals\n",
       "Name: original_title, dtype: object"
      ]
     },
     "metadata": {},
     "execution_count": 509
    }
   ],
   "source": [
    "answers['2'] = data[data.runtime == data.runtime.max()][\"original_title\"]\n",
    "answers['2']"
   ]
  },
  {
   "cell_type": "markdown",
   "metadata": {
    "colab_type": "text",
    "id": "bapLlpW8Vp-k"
   },
   "source": [
    "# 3. Какой из фильмов самый короткий (в минутах)?\n",
    "\n",
    "\n",
    "\n"
   ]
  },
  {
   "cell_type": "code",
   "execution_count": 510,
   "metadata": {
    "colab": {},
    "colab_type": "code",
    "id": "YBxaSHuAVp-l"
   },
   "outputs": [
    {
     "output_type": "execute_result",
     "data": {
      "text/plain": [
       "768    Winnie the Pooh\n",
       "Name: original_title, dtype: object"
      ]
     },
     "metadata": {},
     "execution_count": 510
    }
   ],
   "source": [
    "answers['3'] = data[data.runtime == data.runtime.min()][\"original_title\"]\n",
    "answers['3']"
   ]
  },
  {
   "cell_type": "markdown",
   "metadata": {
    "colab_type": "text",
    "id": "TfQbxbfNVp-p"
   },
   "source": [
    "# 4. Какова средняя длительность фильмов?\n"
   ]
  },
  {
   "cell_type": "code",
   "execution_count": 511,
   "metadata": {
    "colab": {},
    "colab_type": "code",
    "id": "5K6dKZYVVp-q"
   },
   "outputs": [
    {
     "output_type": "execute_result",
     "data": {
      "text/plain": [
       "109.6585494970884"
      ]
     },
     "metadata": {},
     "execution_count": 511
    }
   ],
   "source": [
    "answers['4'] = data.runtime.mean()\n",
    "answers['4']\n"
   ]
  },
  {
   "cell_type": "markdown",
   "metadata": {
    "colab_type": "text",
    "id": "r5TvbnT_Vp-u"
   },
   "source": [
    "# 5. Каково медианное значение длительности фильмов? "
   ]
  },
  {
   "cell_type": "code",
   "execution_count": 512,
   "metadata": {
    "colab": {},
    "colab_type": "code",
    "id": "iBROplKnVp-v"
   },
   "outputs": [
    {
     "output_type": "execute_result",
     "data": {
      "text/plain": [
       "107.0"
      ]
     },
     "metadata": {},
     "execution_count": 512
    }
   ],
   "source": [
    "answers['5'] = data.runtime.median()\n",
    "answers['5']"
   ]
  },
  {
   "cell_type": "markdown",
   "metadata": {
    "colab_type": "text",
    "id": "39P-deDSVp-y"
   },
   "source": [
    "# 6. Какой самый прибыльный фильм?\n",
    "#### Внимание! Здесь и далее под «прибылью» или «убытками» понимается разность между сборами и бюджетом фильма. (прибыль = сборы - бюджет) в нашем датасете это будет (profit = revenue - budget) "
   ]
  },
  {
   "cell_type": "code",
   "execution_count": 513,
   "metadata": {
    "colab": {},
    "colab_type": "code",
    "id": "UYZh4T9WVp-y"
   },
   "outputs": [
    {
     "output_type": "execute_result",
     "data": {
      "text/plain": [
       "       imdb_id     budget     revenue original_title  \\\n",
       "239  tt0499549  237000000  2781505847         Avatar   \n",
       "\n",
       "                                                  cast       director  \\\n",
       "239  Sam Worthington|Zoe Saldana|Sigourney Weaver|S...  James Cameron   \n",
       "\n",
       "                         tagline  \\\n",
       "239  Enter the World of Pandora.   \n",
       "\n",
       "                                              overview  runtime  \\\n",
       "239  In the 22nd century, a paraplegic Marine is di...      162   \n",
       "\n",
       "                                       genres  \\\n",
       "239  Action|Adventure|Fantasy|Science Fiction   \n",
       "\n",
       "                                  production_companies release_date  \\\n",
       "239  Ingenious Film Partners|Twentieth Century Fox ...   12/10/2009   \n",
       "\n",
       "     vote_average  release_year      profit  \n",
       "239           7.1          2009  2544505847  "
      ],
      "text/html": "<div>\n<style scoped>\n    .dataframe tbody tr th:only-of-type {\n        vertical-align: middle;\n    }\n\n    .dataframe tbody tr th {\n        vertical-align: top;\n    }\n\n    .dataframe thead th {\n        text-align: right;\n    }\n</style>\n<table border=\"1\" class=\"dataframe\">\n  <thead>\n    <tr style=\"text-align: right;\">\n      <th></th>\n      <th>imdb_id</th>\n      <th>budget</th>\n      <th>revenue</th>\n      <th>original_title</th>\n      <th>cast</th>\n      <th>director</th>\n      <th>tagline</th>\n      <th>overview</th>\n      <th>runtime</th>\n      <th>genres</th>\n      <th>production_companies</th>\n      <th>release_date</th>\n      <th>vote_average</th>\n      <th>release_year</th>\n      <th>profit</th>\n    </tr>\n  </thead>\n  <tbody>\n    <tr>\n      <th>239</th>\n      <td>tt0499549</td>\n      <td>237000000</td>\n      <td>2781505847</td>\n      <td>Avatar</td>\n      <td>Sam Worthington|Zoe Saldana|Sigourney Weaver|S...</td>\n      <td>James Cameron</td>\n      <td>Enter the World of Pandora.</td>\n      <td>In the 22nd century, a paraplegic Marine is di...</td>\n      <td>162</td>\n      <td>Action|Adventure|Fantasy|Science Fiction</td>\n      <td>Ingenious Film Partners|Twentieth Century Fox ...</td>\n      <td>12/10/2009</td>\n      <td>7.1</td>\n      <td>2009</td>\n      <td>2544505847</td>\n    </tr>\n  </tbody>\n</table>\n</div>"
     },
     "metadata": {},
     "execution_count": 513
    }
   ],
   "source": [
    "# лучше код получения столбца profit вынести в Предобработку что в начале\n",
    "\n",
    "answers['6'] = data[data.profit == data.profit.max()]\n",
    "answers['6']"
   ]
  },
  {
   "cell_type": "markdown",
   "metadata": {
    "colab_type": "text",
    "id": "M99JmIX4Vp-2"
   },
   "source": [
    "# 7. Какой фильм самый убыточный? "
   ]
  },
  {
   "cell_type": "code",
   "execution_count": 514,
   "metadata": {
    "colab": {},
    "colab_type": "code",
    "id": "w-D2m4XPVp-3"
   },
   "outputs": [
    {
     "output_type": "execute_result",
     "data": {
      "text/plain": [
       "        imdb_id     budget   revenue   original_title  \\\n",
       "1245  tt1210819  255000000  89289910  The Lone Ranger   \n",
       "\n",
       "                                                   cast        director  \\\n",
       "1245  Johnny Depp|Armie Hammer|William Fichtner|Hele...  Gore Verbinski   \n",
       "\n",
       "                      tagline  \\\n",
       "1245  Never Take Off the Mask   \n",
       "\n",
       "                                               overview  runtime  \\\n",
       "1245  The Texas Rangers chase down a gang of outlaws...      149   \n",
       "\n",
       "                        genres  \\\n",
       "1245  Action|Adventure|Western   \n",
       "\n",
       "                                   production_companies release_date  \\\n",
       "1245  Walt Disney Pictures|Jerry Bruckheimer Films|I...     7/3/2013   \n",
       "\n",
       "      vote_average  release_year     profit  \n",
       "1245           6.0          2013 -165710090  "
      ],
      "text/html": "<div>\n<style scoped>\n    .dataframe tbody tr th:only-of-type {\n        vertical-align: middle;\n    }\n\n    .dataframe tbody tr th {\n        vertical-align: top;\n    }\n\n    .dataframe thead th {\n        text-align: right;\n    }\n</style>\n<table border=\"1\" class=\"dataframe\">\n  <thead>\n    <tr style=\"text-align: right;\">\n      <th></th>\n      <th>imdb_id</th>\n      <th>budget</th>\n      <th>revenue</th>\n      <th>original_title</th>\n      <th>cast</th>\n      <th>director</th>\n      <th>tagline</th>\n      <th>overview</th>\n      <th>runtime</th>\n      <th>genres</th>\n      <th>production_companies</th>\n      <th>release_date</th>\n      <th>vote_average</th>\n      <th>release_year</th>\n      <th>profit</th>\n    </tr>\n  </thead>\n  <tbody>\n    <tr>\n      <th>1245</th>\n      <td>tt1210819</td>\n      <td>255000000</td>\n      <td>89289910</td>\n      <td>The Lone Ranger</td>\n      <td>Johnny Depp|Armie Hammer|William Fichtner|Hele...</td>\n      <td>Gore Verbinski</td>\n      <td>Never Take Off the Mask</td>\n      <td>The Texas Rangers chase down a gang of outlaws...</td>\n      <td>149</td>\n      <td>Action|Adventure|Western</td>\n      <td>Walt Disney Pictures|Jerry Bruckheimer Films|I...</td>\n      <td>7/3/2013</td>\n      <td>6.0</td>\n      <td>2013</td>\n      <td>-165710090</td>\n    </tr>\n  </tbody>\n</table>\n</div>"
     },
     "metadata": {},
     "execution_count": 514
    }
   ],
   "source": [
    "answers['7'] = data[data.profit == data.profit.min()]\n",
    "answers['7']"
   ]
  },
  {
   "cell_type": "markdown",
   "metadata": {
    "colab_type": "text",
    "id": "wEOM5ERVVp-6"
   },
   "source": [
    "# 8. У скольких фильмов из датасета объем сборов оказался выше бюджета?"
   ]
  },
  {
   "cell_type": "code",
   "execution_count": 515,
   "metadata": {
    "colab": {},
    "colab_type": "code",
    "id": "y00_7HD6Vp-7"
   },
   "outputs": [
    {
     "output_type": "execute_result",
     "data": {
      "text/plain": [
       "1478"
      ]
     },
     "metadata": {},
     "execution_count": 515
    }
   ],
   "source": [
    "answers['8'] = len(data[data.revenue > data.budget])\n",
    "answers['8']"
   ]
  },
  {
   "cell_type": "markdown",
   "metadata": {
    "colab_type": "text",
    "id": "xhpspA9KVp_A"
   },
   "source": [
    "# 9. Какой фильм оказался самым кассовым в 2008 году?"
   ]
  },
  {
   "cell_type": "code",
   "execution_count": 516,
   "metadata": {
    "colab": {},
    "colab_type": "code",
    "id": "MoUyQr9RVp_B"
   },
   "outputs": [
    {
     "output_type": "execute_result",
     "data": {
      "text/plain": [
       "   index    imdb_id     budget     revenue   original_title  \\\n",
       "0    599  tt0468569  185000000  1001921825  The Dark Knight   \n",
       "\n",
       "                                                cast           director  \\\n",
       "0  Christian Bale|Michael Caine|Heath Ledger|Aaro...  Christopher Nolan   \n",
       "\n",
       "           tagline                                           overview  \\\n",
       "0  Why So Serious?  Batman raises the stakes in his war on crime. ...   \n",
       "\n",
       "   runtime                       genres  \\\n",
       "0      152  Drama|Action|Crime|Thriller   \n",
       "\n",
       "                                production_companies release_date  \\\n",
       "0  DC Comics|Legendary Pictures|Warner Bros.|Syncopy    7/16/2008   \n",
       "\n",
       "   vote_average  release_year     profit  \n",
       "0           8.1          2008  816921825  "
      ],
      "text/html": "<div>\n<style scoped>\n    .dataframe tbody tr th:only-of-type {\n        vertical-align: middle;\n    }\n\n    .dataframe tbody tr th {\n        vertical-align: top;\n    }\n\n    .dataframe thead th {\n        text-align: right;\n    }\n</style>\n<table border=\"1\" class=\"dataframe\">\n  <thead>\n    <tr style=\"text-align: right;\">\n      <th></th>\n      <th>index</th>\n      <th>imdb_id</th>\n      <th>budget</th>\n      <th>revenue</th>\n      <th>original_title</th>\n      <th>cast</th>\n      <th>director</th>\n      <th>tagline</th>\n      <th>overview</th>\n      <th>runtime</th>\n      <th>genres</th>\n      <th>production_companies</th>\n      <th>release_date</th>\n      <th>vote_average</th>\n      <th>release_year</th>\n      <th>profit</th>\n    </tr>\n  </thead>\n  <tbody>\n    <tr>\n      <th>0</th>\n      <td>599</td>\n      <td>tt0468569</td>\n      <td>185000000</td>\n      <td>1001921825</td>\n      <td>The Dark Knight</td>\n      <td>Christian Bale|Michael Caine|Heath Ledger|Aaro...</td>\n      <td>Christopher Nolan</td>\n      <td>Why So Serious?</td>\n      <td>Batman raises the stakes in his war on crime. ...</td>\n      <td>152</td>\n      <td>Drama|Action|Crime|Thriller</td>\n      <td>DC Comics|Legendary Pictures|Warner Bros.|Syncopy</td>\n      <td>7/16/2008</td>\n      <td>8.1</td>\n      <td>2008</td>\n      <td>816921825</td>\n    </tr>\n  </tbody>\n</table>\n</div>"
     },
     "metadata": {},
     "execution_count": 516
    }
   ],
   "source": [
    "\n",
    "data_2008 = data[(data.release_year == 2008)].reset_index()\n",
    "\n",
    "answers['9'] = data_2008[(data_2008.revenue == data_2008.revenue.max())]\n",
    "answers['9']\n"
   ]
  },
  {
   "cell_type": "markdown",
   "metadata": {
    "colab_type": "text",
    "id": "Zi4hDKidVp_F"
   },
   "source": [
    "# 10. Самый убыточный фильм за период с 2012 по 2014 г. (включительно)?\n"
   ]
  },
  {
   "cell_type": "code",
   "execution_count": 517,
   "metadata": {
    "colab": {},
    "colab_type": "code",
    "id": "XqyRmufJVp_F"
   },
   "outputs": [
    {
     "output_type": "execute_result",
     "data": {
      "text/plain": [
       "     index    imdb_id     budget   revenue   original_title  \\\n",
       "300   1245  tt1210819  255000000  89289910  The Lone Ranger   \n",
       "\n",
       "                                                  cast        director  \\\n",
       "300  Johnny Depp|Armie Hammer|William Fichtner|Hele...  Gore Verbinski   \n",
       "\n",
       "                     tagline  \\\n",
       "300  Never Take Off the Mask   \n",
       "\n",
       "                                              overview  runtime  \\\n",
       "300  The Texas Rangers chase down a gang of outlaws...      149   \n",
       "\n",
       "                       genres  \\\n",
       "300  Action|Adventure|Western   \n",
       "\n",
       "                                  production_companies release_date  \\\n",
       "300  Walt Disney Pictures|Jerry Bruckheimer Films|I...     7/3/2013   \n",
       "\n",
       "     vote_average  release_year     profit  \n",
       "300           6.0          2013 -165710090  "
      ],
      "text/html": "<div>\n<style scoped>\n    .dataframe tbody tr th:only-of-type {\n        vertical-align: middle;\n    }\n\n    .dataframe tbody tr th {\n        vertical-align: top;\n    }\n\n    .dataframe thead th {\n        text-align: right;\n    }\n</style>\n<table border=\"1\" class=\"dataframe\">\n  <thead>\n    <tr style=\"text-align: right;\">\n      <th></th>\n      <th>index</th>\n      <th>imdb_id</th>\n      <th>budget</th>\n      <th>revenue</th>\n      <th>original_title</th>\n      <th>cast</th>\n      <th>director</th>\n      <th>tagline</th>\n      <th>overview</th>\n      <th>runtime</th>\n      <th>genres</th>\n      <th>production_companies</th>\n      <th>release_date</th>\n      <th>vote_average</th>\n      <th>release_year</th>\n      <th>profit</th>\n    </tr>\n  </thead>\n  <tbody>\n    <tr>\n      <th>300</th>\n      <td>1245</td>\n      <td>tt1210819</td>\n      <td>255000000</td>\n      <td>89289910</td>\n      <td>The Lone Ranger</td>\n      <td>Johnny Depp|Armie Hammer|William Fichtner|Hele...</td>\n      <td>Gore Verbinski</td>\n      <td>Never Take Off the Mask</td>\n      <td>The Texas Rangers chase down a gang of outlaws...</td>\n      <td>149</td>\n      <td>Action|Adventure|Western</td>\n      <td>Walt Disney Pictures|Jerry Bruckheimer Films|I...</td>\n      <td>7/3/2013</td>\n      <td>6.0</td>\n      <td>2013</td>\n      <td>-165710090</td>\n    </tr>\n  </tbody>\n</table>\n</div>"
     },
     "metadata": {},
     "execution_count": 517
    }
   ],
   "source": [
    "\n",
    "data_12_14 = data[(data.release_year >= 2012) & (data.release_year <= 2014)].reset_index()\n",
    "\n",
    "answers['10'] = data_12_14[(data_12_14.profit == data_12_14.profit.min())]\n",
    "answers['10']\n"
   ]
  },
  {
   "cell_type": "markdown",
   "metadata": {
    "colab_type": "text",
    "id": "EA7Sa9dkVp_I"
   },
   "source": [
    "# 11. Какого жанра фильмов больше всего?"
   ]
  },
  {
   "cell_type": "code",
   "execution_count": 518,
   "metadata": {
    "colab": {},
    "colab_type": "code",
    "id": "zsJAwJ8QVp_J"
   },
   "outputs": [
    {
     "output_type": "execute_result",
     "data": {
      "text/plain": [
       "'Drama'"
      ]
     },
     "metadata": {},
     "execution_count": 518
    }
   ],
   "source": [
    "# эту задачу тоже можно решать разными подходами, попробуй реализовать разные варианты\n",
    "# если будешь добавлять функцию - выноси ее в предобработку что в начале\n",
    "data['genre'] = data.genres.apply(lambda x: x.split('|'))\n",
    "d = data.explode('genre')\n",
    "\n",
    "answers['11'] = d.genre.value_counts().index[0]\n",
    "answers['11']\n"
   ]
  },
  {
   "cell_type": "markdown",
   "metadata": {
    "colab_type": "text",
    "id": "Ax6g2C8SVp_M"
   },
   "source": [
    "ВАРИАНТ 2"
   ]
  },
  {
   "cell_type": "code",
   "execution_count": 518,
   "metadata": {
    "colab": {},
    "colab_type": "code",
    "id": "otO3SbrSVp_N",
    "tags": []
   },
   "outputs": [],
   "source": [
    "\n"
   ]
  },
  {
   "source": [
    "# 12. Фильмы какого жанра чаще всего становятся прибыльными? "
   ],
   "cell_type": "markdown",
   "metadata": {
    "colab_type": "text",
    "id": "T9_bPWpkVp_Q"
   }
  },
  {
   "cell_type": "code",
   "execution_count": 519,
   "metadata": {
    "colab": {},
    "colab_type": "code",
    "id": "Tmt8MaK1Vp_R"
   },
   "outputs": [
    {
     "output_type": "execute_result",
     "data": {
      "text/plain": [
       "'Drama'"
      ]
     },
     "metadata": {},
     "execution_count": 519
    }
   ],
   "source": [
    "\n",
    "d = data[data.profit > 0].copy()\n",
    "d['genre'] = data.genres.apply(lambda x: x.split('|'))\n",
    "d = d.explode('genre')\n",
    "\n",
    "\n",
    "answers['12'] = d.groupby(['genre']).profit.count().sort_values(ascending=False).index[0]\n",
    "\n",
    "answers['12']\n",
    "# d.groupby(['genre']).profit.count().sort_values(ascending=False)\n"
   ]
  },
  {
   "cell_type": "code",
   "execution_count": null,
   "metadata": {},
   "outputs": [],
   "source": []
  },
  {
   "cell_type": "markdown",
   "metadata": {
    "colab_type": "text",
    "id": "0F23bgsDVp_U"
   },
   "source": [
    "# 13. У какого режиссера самые большие суммарные кассовые сборы?"
   ]
  },
  {
   "cell_type": "code",
   "execution_count": 520,
   "metadata": {
    "colab": {},
    "colab_type": "code",
    "id": "K6Z3J8ygVp_X"
   },
   "outputs": [
    {
     "output_type": "execute_result",
     "data": {
      "text/plain": [
       "'Peter Jackson'"
      ]
     },
     "metadata": {},
     "execution_count": 520
    }
   ],
   "source": [
    "\n",
    "d = data.copy()\n",
    "d['d1'] = d.director.apply(lambda x: x.split('|'))\n",
    "d = d.explode('d1')\n",
    "\n",
    "answers['13'] = d.groupby(['director']).budget.sum().sort_values(ascending=False).index[0]\n",
    "answers['13']\n"
   ]
  },
  {
   "cell_type": "markdown",
   "metadata": {
    "colab_type": "text",
    "id": "PsYC9FgRVp_a"
   },
   "source": [
    "# 14. Какой режисер снял больше всего фильмов в стиле Action?"
   ]
  },
  {
   "cell_type": "code",
   "execution_count": 521,
   "metadata": {
    "colab": {},
    "colab_type": "code",
    "id": "wd2M-wHeVp_b"
   },
   "outputs": [
    {
     "output_type": "execute_result",
     "data": {
      "text/plain": [
       "'Robert Rodriguez'"
      ]
     },
     "metadata": {},
     "execution_count": 521
    }
   ],
   "source": [
    "d = data.copy()\n",
    "d['genre'] = d.genres.apply(lambda x: x.split('|'))\n",
    "d['d1'] = d.director.apply(lambda x: x.split('|'))\n",
    "d = d.explode('genre')\n",
    "d = d[d.genre == 'Action'].explode('d1')\n",
    "\n",
    "answers['14'] = d.groupby(['d1']).imdb_id.count().sort_values(ascending=False).index[0]\n",
    "answers['14']"
   ]
  },
  {
   "cell_type": "markdown",
   "metadata": {
    "colab_type": "text",
    "id": "PQ0KciD7Vp_f"
   },
   "source": [
    "# 15. Фильмы с каким актером принесли самые высокие кассовые сборы в 2012 году? "
   ]
  },
  {
   "cell_type": "code",
   "execution_count": 522,
   "metadata": {
    "colab": {},
    "colab_type": "code",
    "id": "aga62oeKVp_g"
   },
   "outputs": [
    {
     "output_type": "execute_result",
     "data": {
      "text/plain": [
       "'Chris Hemsworth'"
      ]
     },
     "metadata": {},
     "execution_count": 522
    }
   ],
   "source": [
    "d = data[data.release_year == 2012].copy()\n",
    "d['actor'] = d.cast.apply(lambda x: x.split('|'))\n",
    "d = d.explode('actor')\n",
    "\n",
    "answers['15'] = d.groupby(['actor']).revenue.sum().sort_values(ascending=False).index[0]\n",
    "answers['15']\n"
   ]
  },
  {
   "cell_type": "markdown",
   "metadata": {
    "colab_type": "text",
    "id": "mWHyyL7QVp_j"
   },
   "source": [
    "# 16. Какой актер снялся в большем количестве высокобюджетных фильмов?"
   ]
  },
  {
   "cell_type": "code",
   "execution_count": 523,
   "metadata": {
    "colab": {},
    "colab_type": "code",
    "id": "qQtmHKTFVp_k"
   },
   "outputs": [
    {
     "output_type": "execute_result",
     "data": {
      "text/plain": [
       "'Matt Damon'"
      ]
     },
     "metadata": {},
     "execution_count": 523
    }
   ],
   "source": [
    "d = data[data.budget > data.budget.mean()].copy()\n",
    "d['actor'] = d.cast.apply(lambda x: x.split('|'))\n",
    "d = d.explode('actor')\n",
    "\n",
    "answers['16'] = d.groupby(['actor']).revenue.count().sort_values(ascending=False).index[0]\n",
    "answers['16']"
   ]
  },
  {
   "cell_type": "markdown",
   "metadata": {
    "colab_type": "text",
    "id": "NIh6AaW5Vp_n"
   },
   "source": [
    "# 17. В фильмах какого жанра больше всего снимался Nicolas Cage? "
   ]
  },
  {
   "cell_type": "code",
   "execution_count": 524,
   "metadata": {},
   "outputs": [
    {
     "output_type": "execute_result",
     "data": {
      "text/plain": [
       "'Action'"
      ]
     },
     "metadata": {},
     "execution_count": 524
    }
   ],
   "source": [
    "d = data[data.cast.str.contains('Nicolas Cage')].copy()\n",
    "d['genre'] = data.genres.apply(lambda x: x.split('|'))\n",
    "d = d.explode('genre')\n",
    "\n",
    "\n",
    "answers['17'] = d.groupby(['genre']).profit.count().sort_values(ascending=False).index[0]\n",
    "\n",
    "answers['17']"
   ]
  },
  {
   "cell_type": "code",
   "execution_count": 0,
   "metadata": {
    "colab": {},
    "colab_type": "code",
    "id": "H74SJDIBVp_n"
   },
   "outputs": [],
   "source": []
  },
  {
   "cell_type": "markdown",
   "metadata": {
    "colab_type": "text",
    "id": "RqOmPRfWVp_q"
   },
   "source": [
    "# 18. Самый убыточный фильм от Paramount Pictures"
   ]
  },
  {
   "cell_type": "code",
   "execution_count": 525,
   "metadata": {
    "colab": {},
    "colab_type": "code",
    "id": "9E_B0Y96Vp_r"
   },
   "outputs": [
    {
     "output_type": "execute_result",
     "data": {
      "text/plain": [
       "925    K-19: The Widowmaker\n",
       "Name: original_title, dtype: object"
      ]
     },
     "metadata": {},
     "execution_count": 525
    }
   ],
   "source": [
    "d = data[data.production_companies.str.contains('Paramount Pictures')].copy()\n",
    "\n",
    "\n",
    "answers['18'] = d[d.profit == d.profit.min()].original_title\n",
    "\n",
    "answers['18']"
   ]
  },
  {
   "cell_type": "markdown",
   "metadata": {
    "colab_type": "text",
    "id": "vS8Ur6ddVp_u"
   },
   "source": [
    "# 19. Какой год стал самым успешным по суммарным кассовым сборам?"
   ]
  },
  {
   "cell_type": "code",
   "execution_count": 526,
   "metadata": {
    "colab": {},
    "colab_type": "code",
    "id": "Dnbt4GdIVp_v"
   },
   "outputs": [
    {
     "output_type": "execute_result",
     "data": {
      "text/plain": [
       "2015"
      ]
     },
     "metadata": {},
     "execution_count": 526
    }
   ],
   "source": [
    "answers['19'] = data.groupby('release_year').revenue.sum().sort_values(ascending=False).index[0]\n",
    "\n",
    "answers['19']"
   ]
  },
  {
   "cell_type": "markdown",
   "metadata": {
    "colab_type": "text",
    "id": "JAzJh4QAVp_z"
   },
   "source": [
    "# 20. Какой самый прибыльный год для студии Warner Bros?"
   ]
  },
  {
   "cell_type": "code",
   "execution_count": 527,
   "metadata": {
    "colab": {},
    "colab_type": "code",
    "id": "wgVu02DEVp_0"
   },
   "outputs": [
    {
     "output_type": "execute_result",
     "data": {
      "text/plain": [
       "2014"
      ]
     },
     "metadata": {},
     "execution_count": 527
    }
   ],
   "source": [
    "d = data[data.production_companies.str.contains('Warner')]\n",
    "\n",
    "answers['20'] = d.groupby('release_year').revenue.sum().sort_values(ascending=False).index[0]\n",
    "answers['20']"
   ]
  },
  {
   "cell_type": "markdown",
   "metadata": {
    "colab_type": "text",
    "id": "8Im1S2HRVp_4"
   },
   "source": [
    "# 21. В каком месяце за все годы суммарно вышло больше всего фильмов?"
   ]
  },
  {
   "cell_type": "code",
   "execution_count": 528,
   "metadata": {
    "colab": {},
    "colab_type": "code",
    "id": "lev6TH7gVp_4"
   },
   "outputs": [
    {
     "output_type": "execute_result",
     "data": {
      "text/plain": [
       "'9'"
      ]
     },
     "metadata": {},
     "execution_count": 528
    }
   ],
   "source": [
    "d = data.copy()\n",
    "d['month'] = d.release_date.apply(lambda x: x.split('/')[0])\n",
    "\n",
    "answers['21'] = d.groupby('month').imdb_id.count().sort_values(ascending=False).index[0]\n",
    "answers['21']"
   ]
  },
  {
   "cell_type": "markdown",
   "metadata": {
    "colab_type": "text",
    "id": "uAJsZ_NeVp_7"
   },
   "source": [
    "# 22. Сколько суммарно вышло фильмов летом? (за июнь, июль, август)"
   ]
  },
  {
   "cell_type": "code",
   "execution_count": 529,
   "metadata": {
    "colab": {},
    "colab_type": "code",
    "id": "Aa-hEREoVp_8"
   },
   "outputs": [
    {
     "output_type": "execute_result",
     "data": {
      "text/plain": [
       "450"
      ]
     },
     "metadata": {},
     "execution_count": 529
    }
   ],
   "source": [
    "d = data.copy()\n",
    "d['month'] = d.release_date.apply(lambda x: x.split('/')[0])\n",
    "\n",
    "answers['22'] = len(d.query('month in [\"6\",\"7\",\"8\"]'))\n",
    "answers['22']"
   ]
  },
  {
   "cell_type": "markdown",
   "metadata": {
    "colab_type": "text",
    "id": "G94ppOY1VqAA"
   },
   "source": [
    "# 23. Для какого режиссера зима – самое продуктивное время года? "
   ]
  },
  {
   "cell_type": "code",
   "execution_count": 530,
   "metadata": {
    "colab": {},
    "colab_type": "code",
    "id": "RhNTsamuVqAB"
   },
   "outputs": [
    {
     "output_type": "execute_result",
     "data": {
      "text/plain": [
       "'Peter Jackson'"
      ]
     },
     "metadata": {},
     "execution_count": 530
    }
   ],
   "source": [
    "d = data.copy()\n",
    "d['month'] = d.release_date.apply(lambda x: x.split('/')[0])\n",
    "d = d.query('month in [\"12\",\"1\",\"2\"]')\n",
    "d['director'] = d.director.apply(lambda x: x.split('|'))\n",
    "d = d.explode('director')\n",
    "\n",
    "answers['23'] = d.groupby('director').imdb_id.count().sort_values(ascending=False).index[0]\n",
    "answers['23']"
   ]
  },
  {
   "cell_type": "markdown",
   "metadata": {
    "colab_type": "text",
    "id": "RBo0JVjVVqAF"
   },
   "source": [
    "# 24. Какая студия дает самые длинные названия своим фильмам по количеству символов?"
   ]
  },
  {
   "cell_type": "code",
   "execution_count": 531,
   "metadata": {
    "colab": {},
    "colab_type": "code",
    "id": "QRGS8L0iVqAG"
   },
   "outputs": [
    {
     "output_type": "execute_result",
     "data": {
      "text/plain": [
       "'Four By Two Productions'"
      ]
     },
     "metadata": {},
     "execution_count": 531
    }
   ],
   "source": [
    "d = data.copy()\n",
    "d['title_len'] = d.original_title.apply(lambda x: len(x))\n",
    "d['production'] = d.production_companies.apply(lambda x: x.split('|'))\n",
    "d = d.explode('production')\n",
    "\n",
    "answers['24'] = d.groupby('production').title_len.mean().sort_values(ascending=False).index[0]\n",
    "answers['24']"
   ]
  },
  {
   "cell_type": "markdown",
   "metadata": {
    "colab_type": "text",
    "id": "9G0hbvR7VqAK"
   },
   "source": [
    "# 25. Описание фильмов какой студии в среднем самые длинные по количеству слов?"
   ]
  },
  {
   "cell_type": "code",
   "execution_count": 538,
   "metadata": {
    "colab": {},
    "colab_type": "code",
    "id": "Ge2GsLNxVqAK"
   },
   "outputs": [
    {
     "output_type": "execute_result",
     "data": {
      "text/plain": [
       "'Midnight Picture Show'"
      ]
     },
     "metadata": {},
     "execution_count": 538
    }
   ],
   "source": [
    "d = data.copy()\n",
    "d['overview_len'] = d.overview.apply(lambda x: len(x.split(' ')))\n",
    "d['production'] = d.production_companies.apply(lambda x: x.split('|'))\n",
    "d = d.explode('production')\n",
    "\n",
    "answers['25'] = d.groupby('production').overview_len.mean().sort_values(ascending=False).index[0]\n",
    "answers['25']"
   ]
  },
  {
   "cell_type": "markdown",
   "metadata": {
    "colab_type": "text",
    "id": "FJ1AFt90VqAP"
   },
   "source": [
    "# 26. Какие фильмы входят в 1 процент лучших по рейтингу? \n",
    "по vote_average"
   ]
  },
  {
   "cell_type": "code",
   "execution_count": 537,
   "metadata": {
    "colab": {},
    "colab_type": "code",
    "id": "8qmJVq4CVqAQ"
   },
   "outputs": [
    {
     "output_type": "execute_result",
     "data": {
      "text/plain": [
       "1183                          The Wolf of Wall Street\n",
       "872                                       The Pianist\n",
       "1081    The Lord of the Rings: The Return of the King\n",
       "125                                The Imitation Game\n",
       "138                          The Grand Budapest Hotel\n",
       "599                                   The Dark Knight\n",
       "34                                               Room\n",
       "1800                                          Memento\n",
       "118                                      Interstellar\n",
       "9                                          Inside Out\n",
       "370                                         Inception\n",
       "119                           Guardians of the Galaxy\n",
       "128                                         Gone Girl\n",
       "1191                                 12 Years a Slave\n",
       "Name: original_title, dtype: object"
      ]
     },
     "metadata": {},
     "execution_count": 537
    }
   ],
   "source": [
    "answers['26'] = data[(data.vote_average > np.percentile(data.vote_average,99))]['original_title'].sort_values(ascending=False)\n",
    "answers['26']"
   ]
  },
  {
   "cell_type": "markdown",
   "metadata": {
    "colab_type": "text",
    "id": "MdXsUXbCVqAV"
   },
   "source": [
    "# 27. Какие актеры чаще всего снимаются в одном фильме вместе?\n"
   ]
  },
  {
   "cell_type": "code",
   "execution_count": 534,
   "metadata": {},
   "outputs": [
    {
     "output_type": "execute_result",
     "data": {
      "text/plain": [
       "(Daniel Radcliffe, Rupert Grint)       8\n",
       "(Daniel Radcliffe, Emma Watson)        8\n",
       "(Rupert Grint, Emma Watson)            7\n",
       "(Ben Stiller, Owen Wilson)             6\n",
       "(Johnny Depp, Helena Bonham Carter)    6\n",
       "Name: cast, dtype: int64"
      ]
     },
     "metadata": {},
     "execution_count": 534
    }
   ],
   "source": [
    "from itertools import combinations\n",
    "\n",
    "actors = data.cast.apply(lambda x: x.split('|'))\n",
    "d = actors.apply(lambda x: list(combinations(x, 2))).explode()\n",
    "\n",
    "answers['27'] = d.value_counts()[:5]\n",
    "answers['27']"
   ]
  },
  {
   "cell_type": "markdown",
   "metadata": {
    "colab_type": "text",
    "id": "4ymnxEVoVqAW"
   },
   "source": [
    "ВАРИАНТ 2"
   ]
  },
  {
   "cell_type": "markdown",
   "metadata": {
    "colab_type": "text",
    "id": "U0nONFnGVqAX"
   },
   "source": [
    "# Submission"
   ]
  },
  {
   "cell_type": "code",
   "execution_count": 535,
   "metadata": {
    "colab": {},
    "colab_type": "code",
    "id": "IfcaRO9-VqAX",
    "outputId": "0f132912-32bb-4196-c98c-abfbc4ad5a5f"
   },
   "outputs": [
    {
     "output_type": "execute_result",
     "data": {
      "text/plain": [
       "{'1': 723    Pirates of the Caribbean: On Stranger Tides\n",
       " Name: original_title, dtype: object,\n",
       " '2': 1157    Gods and Generals\n",
       " Name: original_title, dtype: object,\n",
       " '3': 768    Winnie the Pooh\n",
       " Name: original_title, dtype: object,\n",
       " '4': 109.6585494970884,\n",
       " '5': 107.0,\n",
       " '6':        imdb_id     budget     revenue original_title  \\\n",
       " 239  tt0499549  237000000  2781505847         Avatar   \n",
       " \n",
       "                                                   cast       director  \\\n",
       " 239  Sam Worthington|Zoe Saldana|Sigourney Weaver|S...  James Cameron   \n",
       " \n",
       "                          tagline  \\\n",
       " 239  Enter the World of Pandora.   \n",
       " \n",
       "                                               overview  runtime  \\\n",
       " 239  In the 22nd century, a paraplegic Marine is di...      162   \n",
       " \n",
       "                                        genres  \\\n",
       " 239  Action|Adventure|Fantasy|Science Fiction   \n",
       " \n",
       "                                   production_companies release_date  \\\n",
       " 239  Ingenious Film Partners|Twentieth Century Fox ...   12/10/2009   \n",
       " \n",
       "      vote_average  release_year      profit  \n",
       " 239           7.1          2009  2544505847  ,\n",
       " '7':         imdb_id     budget   revenue   original_title  \\\n",
       " 1245  tt1210819  255000000  89289910  The Lone Ranger   \n",
       " \n",
       "                                                    cast        director  \\\n",
       " 1245  Johnny Depp|Armie Hammer|William Fichtner|Hele...  Gore Verbinski   \n",
       " \n",
       "                       tagline  \\\n",
       " 1245  Never Take Off the Mask   \n",
       " \n",
       "                                                overview  runtime  \\\n",
       " 1245  The Texas Rangers chase down a gang of outlaws...      149   \n",
       " \n",
       "                         genres  \\\n",
       " 1245  Action|Adventure|Western   \n",
       " \n",
       "                                    production_companies release_date  \\\n",
       " 1245  Walt Disney Pictures|Jerry Bruckheimer Films|I...     7/3/2013   \n",
       " \n",
       "       vote_average  release_year     profit  \n",
       " 1245           6.0          2013 -165710090  ,\n",
       " '8': 1478,\n",
       " '9':    index    imdb_id     budget     revenue   original_title  \\\n",
       " 0    599  tt0468569  185000000  1001921825  The Dark Knight   \n",
       " \n",
       "                                                 cast           director  \\\n",
       " 0  Christian Bale|Michael Caine|Heath Ledger|Aaro...  Christopher Nolan   \n",
       " \n",
       "            tagline                                           overview  \\\n",
       " 0  Why So Serious?  Batman raises the stakes in his war on crime. ...   \n",
       " \n",
       "    runtime                       genres  \\\n",
       " 0      152  Drama|Action|Crime|Thriller   \n",
       " \n",
       "                                 production_companies release_date  \\\n",
       " 0  DC Comics|Legendary Pictures|Warner Bros.|Syncopy    7/16/2008   \n",
       " \n",
       "    vote_average  release_year     profit  \n",
       " 0           8.1          2008  816921825  ,\n",
       " '10':      index    imdb_id     budget   revenue   original_title  \\\n",
       " 300   1245  tt1210819  255000000  89289910  The Lone Ranger   \n",
       " \n",
       "                                                   cast        director  \\\n",
       " 300  Johnny Depp|Armie Hammer|William Fichtner|Hele...  Gore Verbinski   \n",
       " \n",
       "                      tagline  \\\n",
       " 300  Never Take Off the Mask   \n",
       " \n",
       "                                               overview  runtime  \\\n",
       " 300  The Texas Rangers chase down a gang of outlaws...      149   \n",
       " \n",
       "                        genres  \\\n",
       " 300  Action|Adventure|Western   \n",
       " \n",
       "                                   production_companies release_date  \\\n",
       " 300  Walt Disney Pictures|Jerry Bruckheimer Films|I...     7/3/2013   \n",
       " \n",
       "      vote_average  release_year     profit  \n",
       " 300           6.0          2013 -165710090  ,\n",
       " '11': 'Drama',\n",
       " '12': 'Drama',\n",
       " '13': 'Peter Jackson',\n",
       " '14': 'Robert Rodriguez',\n",
       " '15': 'Chris Hemsworth',\n",
       " '16': 'Matt Damon',\n",
       " '17': 'Action',\n",
       " '18': 925    K-19: The Widowmaker\n",
       " Name: original_title, dtype: object,\n",
       " '19': 2015,\n",
       " '20': 2014,\n",
       " '21': '9',\n",
       " '22': 450,\n",
       " '23': 'Peter Jackson',\n",
       " '24': 'Four By Two Productions',\n",
       " '25': 'Midnight Picture Show',\n",
       " '26': 1183                          The Wolf of Wall Street\n",
       " 872                                       The Pianist\n",
       " 1081    The Lord of the Rings: The Return of the King\n",
       " 125                                The Imitation Game\n",
       " 138                          The Grand Budapest Hotel\n",
       " 599                                   The Dark Knight\n",
       " 34                                               Room\n",
       " 1800                                          Memento\n",
       " 118                                      Interstellar\n",
       " 9                                          Inside Out\n",
       " 370                                         Inception\n",
       " 119                           Guardians of the Galaxy\n",
       " 128                                         Gone Girl\n",
       " 1191                                 12 Years a Slave\n",
       " Name: original_title, dtype: object,\n",
       " '27': (Daniel Radcliffe, Rupert Grint)       8\n",
       " (Daniel Radcliffe, Emma Watson)        8\n",
       " (Rupert Grint, Emma Watson)            7\n",
       " (Ben Stiller, Owen Wilson)             6\n",
       " (Johnny Depp, Helena Bonham Carter)    6\n",
       " Name: cast, dtype: int64}"
      ]
     },
     "metadata": {},
     "execution_count": 535
    }
   ],
   "source": [
    "# в конце можно посмотреть свои ответы к каждому вопросу\n",
    "answers"
   ]
  },
  {
   "cell_type": "code",
   "execution_count": 536,
   "metadata": {
    "colab": {},
    "colab_type": "code",
    "id": "SiRmHPl8VqAd"
   },
   "outputs": [
    {
     "output_type": "execute_result",
     "data": {
      "text/plain": [
       "27"
      ]
     },
     "metadata": {},
     "execution_count": 536
    }
   ],
   "source": [
    "# и убедиться что ни чего не пропустил)\n",
    "len(answers)"
   ]
  },
  {
   "cell_type": "code",
   "execution_count": 0,
   "metadata": {
    "colab": {},
    "colab_type": "code",
    "id": "uCfuTkRbVqAg"
   },
   "outputs": [],
   "source": []
  },
  {
   "cell_type": "code",
   "execution_count": 0,
   "metadata": {
    "colab": {},
    "colab_type": "code",
    "id": "Vwx3NrkSVqAl"
   },
   "outputs": [],
   "source": []
  }
 ],
 "metadata": {
  "colab": {
   "name": "Copy of [SF-DST] Movies IMBD v4.1 TEMPLATE.ipynb",
   "provenance": []
  },
  "kernelspec": {
   "display_name": "Python 3",
   "language": "python",
   "name": "python3"
  },
  "language_info": {
   "codemirror_mode": {
    "name": "ipython",
    "version": 3
   },
   "file_extension": ".py",
   "mimetype": "text/x-python",
   "name": "python",
   "nbconvert_exporter": "python",
   "pygments_lexer": "ipython3",
   "version": "3.8.3"
  }
 },
 "nbformat": 4,
 "nbformat_minor": 1
}